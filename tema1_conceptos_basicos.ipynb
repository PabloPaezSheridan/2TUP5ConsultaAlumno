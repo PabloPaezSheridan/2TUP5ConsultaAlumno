{
  "nbformat": 4,
  "nbformat_minor": 0,
  "metadata": {
    "colab": {
      "provenance": [],
      "authorship_tag": "ABX9TyN+bNe3Se0J8BySq/TE6EjW",
      "include_colab_link": true
    },
    "kernelspec": {
      "name": "python3",
      "display_name": "Python 3"
    },
    "language_info": {
      "name": "python"
    }
  },
  "cells": [
    {
      "cell_type": "markdown",
      "metadata": {
        "id": "view-in-github",
        "colab_type": "text"
      },
      "source": [
        "<a href=\"https://colab.research.google.com/github/PabloPaezSheridan/2TUP5ConsultaAlumno/blob/main/tema1_conceptos_basicos.ipynb\" target=\"_parent\"><img src=\"https://colab.research.google.com/assets/colab-badge.svg\" alt=\"Open In Colab\"/></a>"
      ]
    },
    {
      "cell_type": "markdown",
      "source": [
        "# Tokenizers"
      ],
      "metadata": {
        "id": "cXS-eHAvG7Qy"
      }
    },
    {
      "cell_type": "code",
      "source": [
        "sentences = [\"Soy muy proclive a enroscarme en soluciones que no funcionan\", \"Tengo que cambiar eso\", \"trabajar es sacrificarse para ser mejor\", \"hoy es un dia importante para recordar por donde has empezado a cambiar\"]"
      ],
      "metadata": {
        "id": "mWo6F8sGHCgh"
      },
      "execution_count": 17,
      "outputs": []
    },
    {
      "cell_type": "code",
      "source": [
        "sentences[0].split()"
      ],
      "metadata": {
        "colab": {
          "base_uri": "https://localhost:8080/"
        },
        "id": "lKIBTDWZnfNz",
        "outputId": "b5dc76ca-7f15-4d2c-bdaf-a67253a33a34"
      },
      "execution_count": null,
      "outputs": [
        {
          "output_type": "execute_result",
          "data": {
            "text/plain": [
              "['Soy',\n",
              " 'muy',\n",
              " 'proclive',\n",
              " 'a',\n",
              " 'enroscarme',\n",
              " 'en',\n",
              " 'soluciones',\n",
              " 'que',\n",
              " 'no',\n",
              " 'funcionan']"
            ]
          },
          "metadata": {},
          "execution_count": 6
        }
      ]
    },
    {
      "cell_type": "code",
      "source": [
        "from tensorflow.keras.preprocessing.text import Tokenizer\n",
        "\n",
        "tokenizer = Tokenizer()\n",
        "tokenizer.fit_on_texts(sentences)"
      ],
      "metadata": {
        "id": "7iGW6Tgyn_8p"
      },
      "execution_count": null,
      "outputs": []
    },
    {
      "cell_type": "code",
      "source": [
        "tokenizer.index_word\n",
        "tokenizer.texts_to_sequences(sentences)"
      ],
      "metadata": {
        "colab": {
          "base_uri": "https://localhost:8080/"
        },
        "id": "dz_TaPLmolyr",
        "outputId": "a843a2b9-746d-4669-ae52-94b295d48a57"
      },
      "execution_count": null,
      "outputs": [
        {
          "output_type": "execute_result",
          "data": {
            "text/plain": [
              "[[2, 3, 4, 5, 6, 7, 8, 1, 9, 10], [11, 1, 12, 13]]"
            ]
          },
          "metadata": {},
          "execution_count": 12
        }
      ]
    },
    {
      "cell_type": "code",
      "source": [
        "tokenizer = Tokenizer(num_words=20, oov_token='<OOV>')\n",
        "tokenizer.fit_on_texts(sentences)\n",
        "tokenizer.texts_to_sequences(sentences)"
      ],
      "metadata": {
        "colab": {
          "base_uri": "https://localhost:8080/"
        },
        "id": "3LIPRZLZpYGU",
        "outputId": "213e42ca-1e87-450f-8913-7c3aef65c306"
      },
      "execution_count": 20,
      "outputs": [
        {
          "output_type": "execute_result",
          "data": {
            "text/plain": [
              "[[7, 8, 9, 2, 10, 11, 12, 3, 13, 14],\n",
              " [15, 3, 4, 16],\n",
              " [17, 5, 18, 6, 19, 1],\n",
              " [1, 5, 1, 1, 1, 6, 1, 1, 1, 1, 1, 2, 4]]"
            ]
          },
          "metadata": {},
          "execution_count": 20
        }
      ]
    },
    {
      "cell_type": "markdown",
      "source": [
        "# Padding"
      ],
      "metadata": {
        "id": "5waDdXARr-NS"
      }
    },
    {
      "cell_type": "code",
      "source": [
        "from tensorflow.keras.preprocessing.sequence import pad_sequences\n",
        "\n",
        "pad1= pad_sequences(tokenizer.texts_to_sequences(sentences), maxlen=11, truncating=\"pre\")\n",
        "pad2= pad_sequences(tokenizer.texts_to_sequences(sentences), maxlen=11, truncating=\"post\")\n",
        "print(pad1)\n",
        "print(pad2)"
      ],
      "metadata": {
        "colab": {
          "base_uri": "https://localhost:8080/"
        },
        "id": "1q_sSjr5sBOJ",
        "outputId": "17fadda8-08ee-4f86-95ef-f88fb26157a7"
      },
      "execution_count": 28,
      "outputs": [
        {
          "output_type": "stream",
          "name": "stdout",
          "text": [
            "[[ 0  7  8  9  2 10 11 12  3 13 14]\n",
            " [ 0  0  0  0  0  0  0 15  3  4 16]\n",
            " [ 0  0  0  0  0 17  5 18  6 19  1]\n",
            " [ 1  1  1  6  1  1  1  1  1  2  4]]\n",
            "[[ 0  7  8  9  2 10 11 12  3 13 14]\n",
            " [ 0  0  0  0  0  0  0 15  3  4 16]\n",
            " [ 0  0  0  0  0 17  5 18  6 19  1]\n",
            " [ 1  5  1  1  1  6  1  1  1  1  1]]\n"
          ]
        }
      ]
    }
  ]
}